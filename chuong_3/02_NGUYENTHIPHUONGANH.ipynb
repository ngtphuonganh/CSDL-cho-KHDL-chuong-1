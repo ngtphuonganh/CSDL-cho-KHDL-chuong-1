{
  "nbformat": 4,
  "nbformat_minor": 0,
  "metadata": {
    "colab": {
      "provenance": []
    },
    "kernelspec": {
      "name": "python3",
      "display_name": "Python 3"
    },
    "language_info": {
      "name": "python"
    }
  },
  "cells": [
    {
      "cell_type": "markdown",
      "source": [
        "#CÂU 1"
      ],
      "metadata": {
        "id": "N8FW4o0yy79o"
      }
    },
    {
      "cell_type": "code",
      "execution_count": 2,
      "metadata": {
        "colab": {
          "base_uri": "https://localhost:8080/"
        },
        "id": "HXUppM2DyvJi",
        "outputId": "eaf00d96-2c7b-43e2-b740-2273d428ca70"
      },
      "outputs": [
        {
          "output_type": "stream",
          "name": "stdout",
          "text": [
            "Hệ số tương quan Pearson r_AB = 0.6910506641398757\n"
          ]
        }
      ],
      "source": [
        "import sqlite3\n",
        "import pandas as pd\n",
        "\n",
        "# Tạo dữ liệu mẫu\n",
        "data = [\n",
        "    (8, 9),\n",
        "    (7.5, 8.5),\n",
        "    (6, 7),\n",
        "    (7, 6)\n",
        "]\n",
        "\n",
        "# Tạo kết nối SQLite in-memory\n",
        "conn = sqlite3.connect(':memory:')\n",
        "cur = conn.cursor()\n",
        "\n",
        "# Tạo bảng\n",
        "cur.execute('CREATE TABLE Scores (A REAL, B REAL)')\n",
        "cur.executemany('INSERT INTO Scores (A, B) VALUES (?, ?)', data)\n",
        "\n",
        "# Truy vấn tính hệ số tương quan Pearson\n",
        "query = \"\"\"\n",
        "SELECT\n",
        "    (COUNT(*) * SUM(A * B) - SUM(A) * SUM(B)) /\n",
        "    (SQRT(COUNT(*) * SUM(A * A) - SUM(A) * SUM(A)) *\n",
        "     SQRT(COUNT(*) * SUM(B * B) - SUM(B) * SUM(B))) AS r_AB\n",
        "FROM Scores\n",
        "\"\"\"\n",
        "\n",
        "cur.execute(query)\n",
        "result = cur.fetchone()[0]\n",
        "print(\"Hệ số tương quan Pearson r_AB =\", result)\n"
      ]
    },
    {
      "cell_type": "markdown",
      "source": [
        "#CÂU 2\n"
      ],
      "metadata": {
        "id": "mVuYavQ75Bv2"
      }
    },
    {
      "cell_type": "code",
      "source": [
        "import sqlite3\n",
        "import pandas as pd\n",
        "from scipy.stats import chi2_contingency\n",
        "\n",
        "# Kết nối SQLite trong bộ nhớ\n",
        "conn = sqlite3.connect(':memory:')\n",
        "cursor = conn.cursor()\n",
        "\n",
        "# 1. Tạo bảng và thêm dữ liệu\n",
        "cursor.execute('''\n",
        "    CREATE TABLE ratings (\n",
        "        day TEXT,\n",
        "        car_model TEXT,\n",
        "        score REAL\n",
        "    )\n",
        "''')\n",
        "\n",
        "ratings_data = [\n",
        "    ('Day 1', 'A', 8),\n",
        "    ('Day 1', 'B', 9),\n",
        "    ('Day 1', 'C', 7),\n",
        "    ('Day 2', 'A', 7.5),\n",
        "    ('Day 2', 'B', 8.5),\n",
        "    ('Day 2', 'C', 7),\n",
        "    ('Day 3', 'A', 6),\n",
        "    ('Day 3', 'B', 7),\n",
        "    ('Day 3', 'C', 8),\n",
        "    ('Day 4', 'A', 7),\n",
        "    ('Day 4', 'B', 6),\n",
        "    ('Day 4', 'C', 5),\n",
        "]\n",
        "cursor.executemany('INSERT INTO ratings (day, car_model, score) VALUES (?, ?, ?)', ratings_data)\n",
        "conn.commit()\n",
        "\n",
        "# 2. Truy vấn dữ liệu và làm tròn điểm\n",
        "query = '''\n",
        "SELECT car_model, day, ROUND(score) AS rounded_score\n",
        "FROM ratings\n",
        "'''\n",
        "df = pd.read_sql_query(query, conn)\n",
        "\n",
        "# 3. Kiểm định χ² theo mẫu xe (car_model)\n",
        "table_model = pd.crosstab(df['car_model'], df['rounded_score'])\n",
        "print(\"Bảng chéo (car_model vs rounded_score):\\n\", table_model)\n",
        "\n",
        "chi2_model, p_model, dof_model, expected_model = chi2_contingency(table_model)\n",
        "print(f\"\\n[Kiểm định theo mẫu xe] Chi-squared = {chi2_model:.4f}, p = {p_model:.4f}\")\n",
        "if p_model < 0.05:\n",
        "    print(\"Kết luận: Có sự khác biệt đáng kể giữa các mẫu xe.\")\n",
        "else:\n",
        "    print(\"Kết luận: Không có sự khác biệt đáng kể giữa các mẫu xe.\")\n",
        "\n",
        "# 4. Kiểm định χ² theo ngày (day)\n",
        "table_day = pd.crosstab(df['day'], df['rounded_score'])\n",
        "print(\"\\nBảng chéo (day vs rounded_score):\\n\", table_day)\n",
        "\n",
        "chi2_day, p_day, dof_day, expected_day = chi2_contingency(table_day)\n",
        "print(f\"\\n[Kiểm định theo ngày] Chi-squared = {chi2_day:.4f}, p = {p_day:.4f}\")\n",
        "if p_day < 0.05:\n",
        "    print(\"Kết luận: Kết quả phụ thuộc vào ngày kiểm tra.\")\n",
        "else:\n",
        "    print(\"Kết luận: Kết quả không phụ thuộc vào ngày kiểm tra.\")\n"
      ],
      "metadata": {
        "colab": {
          "base_uri": "https://localhost:8080/"
        },
        "id": "mYK0-tBCz1Tx",
        "outputId": "f7d884e6-8f34-41ce-8fda-47ae4becf33c"
      },
      "execution_count": 1,
      "outputs": [
        {
          "output_type": "stream",
          "name": "stdout",
          "text": [
            "Bảng chéo (car_model vs rounded_score):\n",
            " rounded_score  5.0  6.0  7.0  8.0  9.0\n",
            "car_model                             \n",
            "A                0    1    1    2    0\n",
            "B                0    1    1    0    2\n",
            "C                1    0    2    1    0\n",
            "\n",
            "[Kiểm định theo mẫu xe] Chi-squared = 9.5000, p = 0.3019\n",
            "Kết luận: Không có sự khác biệt đáng kể giữa các mẫu xe.\n",
            "\n",
            "Bảng chéo (day vs rounded_score):\n",
            " rounded_score  5.0  6.0  7.0  8.0  9.0\n",
            "day                                   \n",
            "Day 1            0    0    1    1    1\n",
            "Day 2            0    0    1    1    1\n",
            "Day 3            0    1    1    1    0\n",
            "Day 4            1    1    1    0    0\n",
            "\n",
            "[Kiểm định theo ngày] Chi-squared = 8.0000, p = 0.7851\n",
            "Kết luận: Kết quả không phụ thuộc vào ngày kiểm tra.\n"
          ]
        }
      ]
    },
    {
      "cell_type": "markdown",
      "source": [
        "#CÂU 3"
      ],
      "metadata": {
        "id": "tKRO1h565HSj"
      }
    },
    {
      "cell_type": "code",
      "source": [
        "import sqlite3\n",
        "import pandas as pd\n",
        "\n",
        "# Tạo database giả lập\n",
        "conn = sqlite3.connect(':memory:')\n",
        "cursor = conn.cursor()\n",
        "\n",
        "# Tạo bảng flights\n",
        "cursor.execute('''\n",
        "    CREATE TABLE flights (\n",
        "        flight_id INTEGER PRIMARY KEY,\n",
        "        departure_time INTEGER\n",
        "    )\n",
        "''')\n",
        "\n",
        "# Dữ liệu ví dụ\n",
        "flights_data = [\n",
        "    (1, 830),\n",
        "    (2, 1445),\n",
        "    (3, 1015),\n",
        "    (4, 50),      # 0:50 AM\n",
        "]\n",
        "cursor.executemany('INSERT INTO flights VALUES (?, ?)', flights_data)\n",
        "conn.commit()\n",
        "\n",
        "# Truy vấn + chuyển đổi thời gian bằng Python\n",
        "df = pd.read_sql_query('SELECT * FROM flights', conn)\n",
        "\n",
        "# Chuyển đổi sang định dạng HH:MM\n",
        "def int_to_time(t):\n",
        "    t = int(t)\n",
        "    hour = t // 100\n",
        "    minute = t % 100\n",
        "    return f\"{hour:02d}:{minute:02d}\"\n",
        "\n",
        "df['formatted_time'] = df['departure_time'].apply(int_to_time)\n",
        "print(df)\n"
      ],
      "metadata": {
        "colab": {
          "base_uri": "https://localhost:8080/"
        },
        "id": "xgGGVPS20IPR",
        "outputId": "cd736ae1-4dff-45a7-92eb-1e04ea33ebbc"
      },
      "execution_count": 3,
      "outputs": [
        {
          "output_type": "stream",
          "name": "stdout",
          "text": [
            "   flight_id  departure_time formatted_time\n",
            "0          1             830          08:30\n",
            "1          2            1445          14:45\n",
            "2          3            1015          10:15\n",
            "3          4              50          00:50\n"
          ]
        }
      ]
    },
    {
      "cell_type": "markdown",
      "source": [
        "#CÂU 4"
      ],
      "metadata": {
        "id": "Vi2XR2455LjO"
      }
    },
    {
      "cell_type": "code",
      "source": [
        "import numpy as np\n",
        "\n",
        "# Tạo bảng dữ liệu\n",
        "cursor.execute('''\n",
        "    CREATE TABLE data (\n",
        "        id INTEGER PRIMARY KEY,\n",
        "        value REAL\n",
        "    )\n",
        "''')\n",
        "\n",
        "data_values = [(1,), (2,), (3,), (100,), (4,), (5,), (6,)]\n",
        "cursor.executemany('INSERT INTO data (value) VALUES (?)', data_values)\n",
        "conn.commit()\n",
        "\n",
        "# Lấy dữ liệu\n",
        "df_data = pd.read_sql_query('SELECT * FROM data', conn)\n",
        "values = df_data['value'].values\n",
        "\n",
        "# Tính median và MAD\n",
        "median = np.median(values)\n",
        "mad = np.median(np.abs(values - median))\n",
        "\n",
        "# Tìm ngoại lệ\n",
        "threshold = 1.5 * mad\n",
        "df_data['outlier'] = np.abs(values - median) > threshold\n",
        "print(df_data)\n"
      ],
      "metadata": {
        "id": "lJ1W21qt0MwY",
        "outputId": "a354f7f8-e795-4f42-f062-0d45ea943216",
        "colab": {
          "base_uri": "https://localhost:8080/"
        }
      },
      "execution_count": 4,
      "outputs": [
        {
          "output_type": "stream",
          "name": "stdout",
          "text": [
            "   id  value  outlier\n",
            "0   1    1.0    False\n",
            "1   2    2.0    False\n",
            "2   3    3.0    False\n",
            "3   4  100.0     True\n",
            "4   5    4.0    False\n",
            "5   6    5.0    False\n",
            "6   7    6.0    False\n"
          ]
        }
      ]
    },
    {
      "cell_type": "markdown",
      "source": [
        "#CÂU 5"
      ],
      "metadata": {
        "id": "T1FSoZBK5M6q"
      }
    },
    {
      "cell_type": "code",
      "source": [
        "import sqlite3\n",
        "import pandas as pd\n",
        "\n",
        "# Tạo dữ liệu mẫu\n",
        "patients = [\n",
        "    (\"Nguyen\", 60, 170),\n",
        "    (\"Nguyen\", 61, 169),\n",
        "    (\"Tran\", 55, 160),\n",
        "    (\"Le\", 60, 170),\n",
        "    (\"Nguyen\", 59, 171),\n",
        "]\n",
        "\n",
        "# Kết nối SQLite\n",
        "conn = sqlite3.connect(':memory:')\n",
        "cur = conn.cursor()\n",
        "\n",
        "# Tạo bảng và thêm dữ liệu\n",
        "cur.execute(\"CREATE TABLE Patient (last_name TEXT, weight REAL, height REAL)\")\n",
        "cur.executemany(\"INSERT INTO Patient VALUES (?, ?, ?)\", patients)\n",
        "\n",
        "# Truy vấn kiểm tra các cặp người có khả năng là cùng 1 người\n",
        "query = \"\"\"\n",
        "SELECT\n",
        "    a.last_name AS name1, a.weight AS weight1, a.height AS height1,\n",
        "    b.last_name AS name2, b.weight AS weight2, b.height AS height2\n",
        "FROM Patient a\n",
        "JOIN Patient b\n",
        "  ON a.rowid < b.rowid\n",
        "WHERE\n",
        "    a.last_name = b.last_name\n",
        "    AND ABS(a.weight - b.weight) <= 2\n",
        "\"\"\"\n",
        "\n",
        "df_similar = pd.read_sql_query(query, conn)\n",
        "print(df_similar)\n"
      ],
      "metadata": {
        "id": "EkxdOE8o0Pnk",
        "outputId": "40e47d8e-7ff4-4da2-a507-df6942dd6d5b",
        "colab": {
          "base_uri": "https://localhost:8080/"
        }
      },
      "execution_count": 5,
      "outputs": [
        {
          "output_type": "stream",
          "name": "stdout",
          "text": [
            "    name1  weight1  height1   name2  weight2  height2\n",
            "0  Nguyen     60.0    170.0  Nguyen     59.0    171.0\n",
            "1  Nguyen     60.0    170.0  Nguyen     61.0    169.0\n",
            "2  Nguyen     61.0    169.0  Nguyen     59.0    171.0\n"
          ]
        }
      ]
    }
  ]
}